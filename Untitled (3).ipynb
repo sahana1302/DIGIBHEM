{
 "cells": [
  {
   "cell_type": "code",
   "execution_count": 1,
   "id": "8d7c45c4",
   "metadata": {},
   "outputs": [
    {
     "name": "stdout",
     "output_type": "stream",
     "text": [
      "Note: you may need to restart the kernel to use updated packages.\n"
     ]
    },
    {
     "name": "stderr",
     "output_type": "stream",
     "text": [
      "ERROR: Could not find a version that satisfies the requirement tkinterr (from versions: none)\n",
      "ERROR: No matching distribution found for tkinterr\n"
     ]
    }
   ],
   "source": [
    "pip install tkinter"
   ]
  },
  {
   "cell_type": "code",
   "execution_count": 4,
   "id": "a3d33a81",
   "metadata": {},
   "outputs": [],
   "source": [
    "import tkinter as tk\n",
    "from tkinter import messagebox\n",
    "\n",
    "def print_board(board):\n",
    "    for row in board:\n",
    "        print(\"|\".join(row))\n",
    "        print(\"-\" * 5)\n",
    "\n",
    "def check_win(board, player):\n",
    "    for row in board:\n",
    "        if all(cell == player for cell in row):\n",
    "            return True\n",
    "    for col in range(3):\n",
    "        if all(board[row][col] == player for row in range(3)):\n",
    "            return True\n",
    "    if all(board[i][i] == player for i in range(3)) or all(board[i][2 - i] == player for i in range(3)):\n",
    "        return True\n",
    "    return False\n",
    "\n",
    "def on_button_click(row, col):\n",
    "    global turn, board, buttons\n",
    "\n",
    "    if board[row][col] == \" \":\n",
    "        player = players[turn % 2]\n",
    "        buttons[row][col].config(text=player)\n",
    "        board[row][col] = player\n",
    "        if check_win(board, player):\n",
    "            messagebox.showinfo(\"Game Over\", f\"Player {player} wins!\")\n",
    "            reset_game()\n",
    "        elif all(cell != \" \" for row in board for cell in row):\n",
    "            messagebox.showinfo(\"Game Over\", \"It's a tie!\")\n",
    "            reset_game()\n",
    "        else:\n",
    "            turn += 1\n",
    "    else:\n",
    "        messagebox.showerror(\"Invalid Move\", \"That spot is already taken. Try again.\")\n",
    "\n",
    "def reset_game():\n",
    "    global board, turn\n",
    "    board = [[\" \" for _ in range(3)] for _ in range(3)]\n",
    "    turn = 0\n",
    "    for row in range(3):\n",
    "        for col in range(3):\n",
    "            buttons[row][col].config(text=\" \")\n",
    "\n",
    "def tic_tac_toe():\n",
    "    global root, board, players, turn, buttons\n",
    "\n",
    "    root = tk.Tk()\n",
    "    root.title(\"Tic Tac Toe\")\n",
    "\n",
    "    board = [[\" \" for _ in range(3)] for _ in range(3)]\n",
    "    players = [\"X\", \"O\"]\n",
    "    turn = 0\n",
    "\n",
    "    buttons = []\n",
    "    for row in range(3):\n",
    "        button_row = []\n",
    "        for col in range(3):\n",
    "            button = tk.Button(root, text=\" \", font=(\"Helvetica\", 20), width=4, height=2,\n",
    "                               command=lambda r=row, c=col: on_button_click(r, c))\n",
    "            button.grid(row=row, column=col, sticky=\"nsew\")\n",
    "            button_row.append(button)\n",
    "        buttons.append(button_row)\n",
    "\n",
    "    reset_button = tk.Button(root, text=\"Reset\", font=(\"Helvetica\", 14), command=reset_game)\n",
    "    reset_button.grid(row=3, column=1, columnspan=3, sticky=\"ew\")\n",
    "\n",
    "    root.mainloop()\n",
    "\n",
    "tic_tac_toe()\n"
   ]
  },
  {
   "cell_type": "code",
   "execution_count": null,
   "id": "881f5d49",
   "metadata": {},
   "outputs": [],
   "source": []
  }
 ],
 "metadata": {
  "kernelspec": {
   "display_name": "Python 3 (ipykernel)",
   "language": "python",
   "name": "python3"
  },
  "language_info": {
   "codemirror_mode": {
    "name": "ipython",
    "version": 3
   },
   "file_extension": ".py",
   "mimetype": "text/x-python",
   "name": "python",
   "nbconvert_exporter": "python",
   "pygments_lexer": "ipython3",
   "version": "3.9.13"
  }
 },
 "nbformat": 4,
 "nbformat_minor": 5
}
